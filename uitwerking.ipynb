{
 "cells": [
  {
   "cell_type": "markdown",
   "metadata": {},
   "source": [
    "# Nutrition Analysis and Recipe Finder\n",
    "\n",
    "This project is an interactive application that allows users to look up nutritional values, find recipes, and optain cooking tips. For the menu click [here](#interactive-widget-menu)"
   ]
  },
  {
   "cell_type": "markdown",
   "metadata": {},
   "source": [
    "Importing the libraries and the credentials for the api"
   ]
  },
  {
   "cell_type": "code",
   "execution_count": null,
   "metadata": {},
   "outputs": [],
   "source": [
    "# Import libraries\n",
    "import requests\n",
    "from bs4 import BeautifulSoup\n",
    "import ipywidgets as widgets\n",
    "import re\n",
    "from IPython.display import display\n",
    "\n",
    "# Edamam API credentials (replace with your valid keys)\n",
    "edamam_api_id_nutrition = \"\"\n",
    "edamam_api_key_nutrition = \"\"\n",
    "edamam_api_id_recipe = \"\"\n",
    "edamam_api_key_recipe = \"\"\n",
    "base_url = \"https://api.edamam.com/api/\"\n"
   ]
  },
  {
   "cell_type": "markdown",
   "metadata": {},
   "source": [
    "Function for API requests"
   ]
  },
  {
   "cell_type": "code",
   "execution_count": 2,
   "metadata": {},
   "outputs": [],
   "source": [
    "# Function to call the Edamam API\n",
    "def call_edamam_api(endpoint, params, app_id, app_key):\n",
    "    try:\n",
    "        full_url = f\"{base_url}{endpoint}\"\n",
    "        params[\"app_id\"] = app_id\n",
    "        params[\"app_key\"] = app_key\n",
    "        response = requests.get(full_url, params=params, timeout=10)\n",
    "        response.raise_for_status()  # Raise an HTTPError for bad responses\n",
    "        return response.json()\n",
    "    except requests.exceptions.RequestException as e:\n",
    "        print(f\"API Error: {e}\") # Print the HTTPError reason\n",
    "        return None\n"
   ]
  },
  {
   "cell_type": "markdown",
   "metadata": {},
   "source": [
    "### Overview of Features\n",
    "\n",
    "1. [Search for Recipes](#recipe-search-function)\n",
    "2. [Discover Cooking Tips](#scrape-cooking-tips-function)\n",
    "3. [Get Nutritional Information](#get-nutritional-information-function)"
   ]
  },
  {
   "cell_type": "markdown",
   "metadata": {},
   "source": [
    "### Recipe Search Function"
   ]
  },
  {
   "cell_type": "code",
   "execution_count": 3,
   "metadata": {},
   "outputs": [],
   "source": [
    "# Function to search for recipes using Edamam Recipe API and including the changing parameters\n",
    "def search_recipes(ingredient, diet=None, health=None, mealType=None):\n",
    "    endpoint = \"recipes/v2\"\n",
    "    params = {\n",
    "        \"q\": ingredient,\n",
    "        \"type\": \"public\",\n",
    "    }\n",
    "    if diet:\n",
    "        params[\"diet\"] = diet\n",
    "    if health:\n",
    "        params[\"health\"] = health\n",
    "    if mealType:\n",
    "        params[\"mealType\"] = mealType\n",
    "    \n",
    "    return call_edamam_api(endpoint, params, edamam_api_id_recipe, edamam_api_key_recipe)\n"
   ]
  },
  {
   "cell_type": "markdown",
   "metadata": {},
   "source": [
    "### Scrape Cooking Tips Function"
   ]
  },
  {
   "cell_type": "code",
   "execution_count": null,
   "metadata": {},
   "outputs": [],
   "source": [
    "# Function to scrape cooking tips\n",
    "def parse_cooking_tips():\n",
    "    tips_data = []\n",
    "    url = \"https://www.smartchicken.com/20-quick-cooking-tips\"\n",
    "\n",
    "    # Send a GET request to fetch the page content\n",
    "    try:\n",
    "        response = requests.get(url)\n",
    "        response.raise_for_status()  # Raise an exception for HTTP errors\n",
    "    except requests.exceptions.RequestException as e:\n",
    "        print(f\"Error fetching cooking tips: {e}\")\n",
    "        return tips_data  # Return an empty list if the request fails\n",
    "\n",
    "    # Parse the HTML content using BeautifulSoup\n",
    "    soup = BeautifulSoup(response.content, 'html.parser')\n",
    "\n",
    "    # Find all div elements with the specified classes\n",
    "    content_divs = soup.find_all('div', class_=['sqs-block html-block sqs-block-html'])\n",
    "\n",
    "    # Extract all paragraphs\n",
    "    for content_div in content_divs:\n",
    "        p_tags = content_div.find_all('p')\n",
    "        for p in p_tags:\n",
    "            tip_text = p.get_text(strip=True)\n",
    "            if tip_text:  # Ensure non-empty text is added to the tips list\n",
    "                tips_data.append(tip_text)\n",
    "\n",
    "    # Process tips to format it as a structured list of numbered tips\n",
    "    formatted_tips = []\n",
    "    for tip in tips_data:\n",
    "        # Split the text into parts based on numbered patterns, using regex\n",
    "        tips = re.split(r'(\\d+\\.)', tip)\n",
    "        current_tip = \"\"\n",
    "        for part in tips:\n",
    "            if re.match(r'\\d+\\.', part):  # Check if the part is a number\n",
    "                if current_tip:  # If there's already a tip being built, add it to the list\n",
    "                    formatted_tips.append(current_tip.strip())\n",
    "                current_tip = part  # Start a new tip with the current number\n",
    "            else:\n",
    "                current_tip += f\" {part.strip()}\"  # Adds the text to the current tip\n",
    "        if current_tip:  # Add the last tip to the list\n",
    "            formatted_tips.append(current_tip.strip())\n",
    "\n",
    "    return formatted_tips\n"
   ]
  },
  {
   "cell_type": "markdown",
   "metadata": {},
   "source": [
    "### Get Nutritional Data Function"
   ]
  },
  {
   "cell_type": "code",
   "execution_count": 5,
   "metadata": {},
   "outputs": [],
   "source": [
    "# Function to get nutritional information for a specific food item\n",
    "def get_nutritional_data(food_item):\n",
    "    endpoint = \"nutrition-data\"\n",
    "    params = {\"ingr\": food_item}\n",
    "    \n",
    "    return call_edamam_api(endpoint, params, edamam_api_id_nutrition, edamam_api_key_nutrition)\n"
   ]
  },
  {
   "cell_type": "markdown",
   "metadata": {},
   "source": [
    "### Feature Selection Workflow"
   ]
  },
  {
   "cell_type": "code",
   "execution_count": null,
   "metadata": {},
   "outputs": [],
   "source": [
    "# Function to handle feature selection\n",
    "def on_feature_select(change):\n",
    "    feature = change['new']\n",
    "    \n",
    "    if feature == \"Search for Recipes\":\n",
    "        # Create the ingredient input\n",
    "        ingredient_input = widgets.Text(placeholder=\"Type ingredient\", description=\"Ingredient:\")\n",
    "        \n",
    "        # Create the diet selection\n",
    "        diet_dropdown = widgets.Dropdown(\n",
    "            options=[\"Select Diet\", \"balanced\", \"high-fiber\", \"high-protein\", \"low-carb\", \"low-fat\", \"low-sodium\"],\n",
    "            description=\"Diet:\"\n",
    "        )\n",
    "        \n",
    "        # Create the health selection\n",
    "        health_dropdown = widgets.SelectMultiple(\n",
    "            options=[\n",
    "                \"alcohol-cocktail\", \"alcohol-free\", \"celery-free\", \"crustacean-free\", \"dairy-free\", \"DASH\", \n",
    "                \"egg-free\", \"fish-free\", \"fodmap-free\", \"gluten-free\", \"immuno-supportive\", \"keto-friendly\", \n",
    "                \"kidney-friendly\", \"kosher\", \"low-fat-abs\", \"low-potassium\", \"low-sugar\", \"lupine-free\", \n",
    "                \"Mediterranean\", \"mollusk-free\", \"mustard-free\", \"no-oil-added\", \"paleo\", \"peanut-free\", \n",
    "                \"pescatarian\", \"pork-free\", \"red-meat-free\", \"sesame-free\", \"shellfish-free\", \"soy-free\", \n",
    "                \"sugar-conscious\", \"sulfite-free\", \"tree-nut-free\", \"vegan\", \"vegetarian\", \"wheat-free\"\n",
    "            ],\n",
    "            description=\"Health:\"\n",
    "        )\n",
    "        \n",
    "        # Create the meal type selection\n",
    "        meal_type_dropdown = widgets.SelectMultiple(\n",
    "            options=[\n",
    "                \"Breakfast\", \"Dinner\", \"Lunch\", \"Snack\", \"Teatime\"\n",
    "            ],\n",
    "            description=\"Meal Type:\",\n",
    "        )\n",
    "        \n",
    "        # Search button\n",
    "        def search_recipes_workflow(b):\n",
    "            ingredient = ingredient_input.value\n",
    "            diet = diet_dropdown.value if diet_dropdown.value != \"Select Diet\" else None\n",
    "            health = list(health_dropdown.value)\n",
    "            meal = list(meal_type_dropdown.value)\n",
    "            recipes = search_recipes(ingredient, diet, health, meal)\n",
    "            \n",
    "            if recipes and \"hits\" in recipes:\n",
    "                for recipe in recipes[\"hits\"]:\n",
    "                    print(f\"Recipe: {recipe['recipe']['label']}\\nCalories: {recipe['recipe']['calories']}\\nURL: {recipe['recipe']['url']}\\n\")\n",
    "            else:\n",
    "                print(\"No recipes found.\")\n",
    "        \n",
    "        search_button = widgets.Button(description=\"Search Recipes\")\n",
    "        search_button.on_click(search_recipes_workflow)\n",
    "        \n",
    "        display(ingredient_input, diet_dropdown, health_dropdown, meal_type_dropdown, search_button)\n",
    "    \n",
    "    elif feature == \"Get Nutritional Information\":\n",
    "        # Food Item input for nutritional informaition\n",
    "        food_input = widgets.Text(placeholder=\"Food item, with quantity (1 apple)\", description=\"Food Item:\")\n",
    "        \n",
    "        # Search button for nutrition data\n",
    "        def get_nutrition_workflow(b):\n",
    "            food_item = food_input.value\n",
    "            nutrition_data = get_nutritional_data(food_item)\n",
    "            \n",
    "            if nutrition_data:\n",
    "                print(f\"Nutritional Information for {food_item}:\")\n",
    "                for key, value in nutrition_data.items():\n",
    "                    print(f\"{key}: {value}\")\n",
    "            else:\n",
    "                print(\"Failed to retrieve nutritional information.\")\n",
    "        \n",
    "        nutrition_button = widgets.Button(description=\"Get Nutrition Info\")\n",
    "        nutrition_button.on_click(get_nutrition_workflow)\n",
    "        \n",
    "        display(food_input, nutrition_button)\n",
    "    \n",
    "    # Display the cooking tips to the user\n",
    "    elif __name__ == \"__main__\":\n",
    "        tips = parse_cooking_tips()\n",
    "        if tips:\n",
    "            print(\"Cooking Tips:\\n\")\n",
    "            for tip in tips:\n",
    "                print(tip)  # Print each tip on a new line\n",
    "        else:\n",
    "            print(\"No cooking tips found.\")\n"
   ]
  },
  {
   "cell_type": "markdown",
   "metadata": {},
   "source": [
    "### Interactive widget menu"
   ]
  },
  {
   "cell_type": "code",
   "execution_count": null,
   "metadata": {},
   "outputs": [
    {
     "data": {
      "application/vnd.jupyter.widget-view+json": {
       "model_id": "68401af692444353abb6e045197a2a88",
       "version_major": 2,
       "version_minor": 0
      },
      "text/plain": [
       "Dropdown(description='Feature:', options=('Select Feature', 'Search for Recipes', 'Get Nutritional Information…"
      ]
     },
     "metadata": {},
     "output_type": "display_data"
    }
   ],
   "source": [
    "# Create feature selection dropdown menu\n",
    "feature_dropdown = widgets.Dropdown(\n",
    "    options=[\"Select Feature\", \"Search for Recipes\", \"Get Nutritional Information\", \"Fetch Cooking Tips\"],\n",
    "    value=\"Select Feature\",\n",
    "    description=\"Feature:\"\n",
    ")\n",
    "\n",
    "# Linking the selection and features\n",
    "feature_dropdown.observe(on_feature_select, names='value')\n",
    "\n",
    "# Display the dropdown menu\n",
    "display(feature_dropdown)"
   ]
  }
 ],
 "metadata": {
  "kernelspec": {
   "display_name": "Python 3",
   "language": "python",
   "name": "python3"
  },
  "language_info": {
   "codemirror_mode": {
    "name": "ipython",
    "version": 3
   },
   "file_extension": ".py",
   "mimetype": "text/x-python",
   "name": "python",
   "nbconvert_exporter": "python",
   "pygments_lexer": "ipython3",
   "version": "3.10.11"
  }
 },
 "nbformat": 4,
 "nbformat_minor": 2
}
